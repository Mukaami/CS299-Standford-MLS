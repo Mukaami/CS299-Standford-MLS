{
 "cells": [
  {
   "cell_type": "code",
   "execution_count": 1,
   "id": "79b3b1dc",
   "metadata": {},
   "outputs": [],
   "source": [
    "import numpy as np"
   ]
  },
  {
   "cell_type": "code",
   "execution_count": 4,
   "id": "b3ea717e",
   "metadata": {},
   "outputs": [],
   "source": [
    "def sigmoid(x):\n",
    "     return 1/(1 + np.exp(-x))"
   ]
  },
  {
   "cell_type": "code",
   "execution_count": 33,
   "id": "f9697d71",
   "metadata": {},
   "outputs": [],
   "source": [
    "def predict_regression(arg_X, arg_W, arg_b):\n",
    "    Ŷ = arg_X.dot(arg_W) + arg_b\n",
    "    return Ŷ"
   ]
  },
  {
   "cell_type": "code",
   "execution_count": 34,
   "id": "a0a36f03",
   "metadata": {},
   "outputs": [],
   "source": [
    "def predict(arg_X, arg_W, arg_b):\n",
    "    Ŷ = predict_regression(arg_X, arg_W, arg_b)\n",
    "    Ŷ = sigmoid(Ŷ)\n",
    "    return Ŷ"
   ]
  },
  {
   "cell_type": "code",
   "execution_count": null,
   "id": "49d6f376",
   "metadata": {},
   "outputs": [],
   "source": []
  }
 ],
 "metadata": {
  "kernelspec": {
   "display_name": "Python 3 (ipykernel)",
   "language": "python",
   "name": "python3"
  },
  "language_info": {
   "codemirror_mode": {
    "name": "ipython",
    "version": 3
   },
   "file_extension": ".py",
   "mimetype": "text/x-python",
   "name": "python",
   "nbconvert_exporter": "python",
   "pygments_lexer": "ipython3",
   "version": "3.10.6"
  }
 },
 "nbformat": 4,
 "nbformat_minor": 5
}
