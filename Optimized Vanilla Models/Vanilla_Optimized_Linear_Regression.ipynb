{
  "nbformat": 4,
  "nbformat_minor": 0,
  "metadata": {
    "colab": {
      "provenance": []
    },
    "kernelspec": {
      "name": "python3",
      "display_name": "Python 3"
    },
    "language_info": {
      "name": "python"
    }
  },
  "cells": [
    {
      "cell_type": "code",
      "execution_count": 1,
      "metadata": {
        "id": "cM_vP8GRKHCz"
      },
      "outputs": [],
      "source": [
        "import numpy as np\n",
        "\n",
        "def linear_regression(X, y, learning_rate, num_iterations):\n",
        "    m = len(y)  # number of training examples\n",
        "    n = X.shape[1]  # number of features\n",
        "\n",
        "    # Initialize the parameters\n",
        "    theta = np.zeros((n, 1))\n",
        "    bias = 0\n",
        "\n",
        "    # Perform gradient descent\n",
        "    for iteration in range(num_iterations):\n",
        "        # Calculate predictions\n",
        "        y_pred = np.dot(X, theta) + bias\n",
        "\n",
        "        # Calculate gradients\n",
        "        d_theta = (1 / m) * np.dot(X.T, (y_pred - y))\n",
        "        d_bias = (1 / m) * np.sum(y_pred - y)\n",
        "\n",
        "        # Update parameters\n",
        "        theta -= learning_rate * d_theta\n",
        "        bias -= learning_rate * d_bias\n",
        "\n",
        "    return theta, bias"
      ]
    },
    {
      "cell_type": "code",
      "source": [],
      "metadata": {
        "id": "R14Sg5zKKMdL"
      },
      "execution_count": null,
      "outputs": []
    }
  ]
}