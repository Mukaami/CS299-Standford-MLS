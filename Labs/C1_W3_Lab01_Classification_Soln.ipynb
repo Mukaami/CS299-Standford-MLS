{
 "cells": [
  {
   "cell_type": "code",
   "execution_count": 11,
   "metadata": {},
   "outputs": [],
   "source": [
    "# Credits: Andrew NG - Coursera MLS Course 1"
   ]
  },
  {
   "cell_type": "markdown",
   "metadata": {},
   "source": [
    "# Optional Lab: Classification\n",
    "\n",
    "In this lab, you will contrast regression and classification."
   ]
  },
  {
   "cell_type": "code",
   "execution_count": 1,
   "metadata": {},
   "outputs": [],
   "source": [
    "import numpy as np\n",
    "%matplotlib widget\n",
    "import matplotlib.pyplot as plt\n",
    "from lab_utils_common import dlc, plot_data\n",
    "from plt_one_addpt_onclick import plt_one_addpt_onclick\n",
    "plt.style.use('./deeplearning.mplstyle')"
   ]
  },
  {
   "cell_type": "markdown",
   "metadata": {},
   "source": [
    "## Classification Problems\n",
    "<img align=\"left\" src=\"./images/C1_W3_Classification.png\"     style=\" width:380px; padding: 10px; \" > Examples of classification problems are things like: identifying email as Spam or Not Spam or determining if a tumor is malignant or benign. In particular, these are examples of *binary* classification where there are two possible outcomes.  Outcomes can be  described in pairs of 'positive'/'negative' such as 'yes'/'no, 'true'/'false' or '1'/'0'. \n",
    "\n",
    "Plots of classification data sets often use symbols to indicate the outcome of an example. In the plots below, 'X' is used to represent the positive values while 'O' represents negative outcomes. "
   ]
  },
  {
   "cell_type": "code",
   "execution_count": 2,
   "metadata": {},
   "outputs": [],
   "source": [
    "x_train = np.array([0., 1, 2, 3, 4, 5])\n",
    "y_train = np.array([0,  0, 0, 1, 1, 1])\n",
    "X_train2 = np.array([[0.5, 1.5], [1,1], [1.5, 0.5], [3, 0.5], [2, 2], [1, 2.5]])\n",
    "y_train2 = np.array([0, 0, 0, 1, 1, 1])"
   ]
  },
  {
   "cell_type": "code",
   "execution_count": 3,
   "metadata": {},
   "outputs": [
    {
     "data": {
      "application/vnd.jupyter.widget-view+json": {
       "model_id": "8f232e862870460c93213eba3440d884",
       "version_major": 2,
       "version_minor": 0
      },
      "text/plain": [
       "Canvas(toolbar=Toolbar(toolitems=[('Home', 'Reset original view', 'home', 'home'), ('Back', 'Back to previous …"
      ]
     },
     "metadata": {},
     "output_type": "display_data"
    }
   ],
   "source": [
    "pos = y_train == 1\n",
    "neg = y_train == 0\n",
    "\n",
    "fig,ax = plt.subplots(1,2,figsize=(8,3))\n",
    "#plot 1, single variable\n",
    "ax[0].scatter(x_train[pos], y_train[pos], marker='x', s=80, c = 'red', label=\"y=1\")\n",
    "ax[0].scatter(x_train[neg], y_train[neg], marker='o', s=100, label=\"y=0\", facecolors='none', \n",
    "              edgecolors=dlc[\"dlblue\"],lw=3)\n",
    "\n",
    "ax[0].set_ylim(-0.08,1.1)\n",
    "ax[0].set_ylabel('y', fontsize=12)\n",
    "ax[0].set_xlabel('x', fontsize=12)\n",
    "ax[0].set_title('one variable plot')\n",
    "ax[0].legend()\n",
    "\n",
    "#plot 2, two variables\n",
    "plot_data(X_train2, y_train2, ax[1])\n",
    "ax[1].axis([0, 4, 0, 4])\n",
    "ax[1].set_ylabel('$x_1$', fontsize=12)\n",
    "ax[1].set_xlabel('$x_0$', fontsize=12)\n",
    "ax[1].set_title('two variable plot')\n",
    "ax[1].legend()\n",
    "plt.tight_layout()\n",
    "plt.show()\n"
   ]
  },
  {
   "cell_type": "markdown",
   "metadata": {},
   "source": [
    "Note in the plots above:\n",
    "- In the single variable plot, positive results are shown both a red 'X's and as y=1. Negative results are blue 'O's and are located at y=0.\n",
    "   - Recall in the case of linear regression, y would not have been limited to two values but could have been any value.\n",
    "- In the two-variable plot, the y axis is not available.  Positive results are shown as red 'X's, while negative results use the blue 'O' symbol.\n",
    "    - Recall in the case of linear regression with multiple variables, y would not have been limited to two values and a similar plot would have been three-dimensional."
   ]
  },
  {
   "cell_type": "markdown",
   "metadata": {},
   "source": [
    "## Linear Regression approach\n",
    "In the previous week, you applied linear regression to build a prediction model. Let's try that approach here using the simple example that was described in the lecture. The model will predict if a tumor is benign or malignant based on tumor size.  Try the following:\n",
    "- Click on 'Run Linear Regression' to find the best linear regression model for the given data.\n",
    "    - Note the resulting linear model does **not** match the data well. \n",
    "One option to improve the results is to apply a *threshold*. \n",
    "- Tick the box on the 'Toggle 0.5 threshold' to show the predictions if a threshold is applied.\n",
    "    - These predictions look good, the predictions match the data\n",
    "- *Important*: Now, add further 'malignant' data points on the far right, in the large tumor size range (near 10), and re-run linear regression.\n",
    "    - Now, the model predicts the larger tumor, but data point at x=3 is being incorrectly predicted!\n",
    "- to clear/renew the plot, rerun the cell containing the plot command."
   ]
  },
  {
   "cell_type": "code",
   "execution_count": 6,
   "metadata": {},
   "outputs": [
    {
     "data": {
      "application/vnd.jupyter.widget-view+json": {
       "model_id": "ecab1beee37d4a018a3f510e7c709d3c",
       "version_major": 2,
       "version_minor": 0
      },
      "text/plain": [
       "Canvas(toolbar=Toolbar(toolitems=[('Home', 'Reset original view', 'home', 'home'), ('Back', 'Back to previous …"
      ]
     },
     "metadata": {},
     "output_type": "display_data"
    }
   ],
   "source": [
    "w_in = np.zeros((1))\n",
    "b_in = 0\n",
    "plt.close('all') \n",
    "addpt = plt_one_addpt_onclick( x_train,y_train, w_in, b_in, logistic=False)"
   ]
  },
  {
   "cell_type": "markdown",
   "metadata": {},
   "source": [
    "The example above demonstrates that the linear model is insufficient to model categorical data. The model can be extended as described in the following lab."
   ]
  },
  {
   "cell_type": "markdown",
   "metadata": {},
   "source": [
    "## Congratulations!\n",
    "In this lab you:\n",
    "- explored categorical data sets and plotting\n",
    "- determined that linear regression was insufficient for a classification problem."
   ]
  },
  {
   "cell_type": "code",
   "execution_count": 9,
   "metadata": {},
   "outputs": [
    {
     "name": "stdout",
     "output_type": "stream",
     "text": [
      "class plt_one_addpt_onclick:\n",
      "    \"\"\" class to run one interactive plot \"\"\"\n",
      "    def __init__(self, x, y, w, b, logistic=True):\n",
      "        self.logistic=logistic\n",
      "        pos = y == 1\n",
      "        neg = y == 0\n",
      "\n",
      "        fig,ax = plt.subplots(1,1,figsize=(8,4))\n",
      "        fig.canvas.toolbar_visible = False\n",
      "        fig.canvas.header_visible = False\n",
      "        fig.canvas.footer_visible = False\n",
      "\n",
      "        plt.subplots_adjust(bottom=0.25)\n",
      "        ax.scatter(x[pos], y[pos], marker='x', s=80, c = 'red', label=\"malignant\")\n",
      "        ax.scatter(x[neg], y[neg], marker='o', s=100, label=\"benign\", facecolors='none', edgecolors=dlblue,lw=3)\n",
      "        ax.set_ylim(-0.05,1.1)\n",
      "        xlim = ax.get_xlim()\n",
      "        ax.set_xlim(xlim[0],xlim[1]*2)\n",
      "        ax.set_ylabel('y')\n",
      "        ax.set_xlabel('Tumor Size')\n",
      "        self.alegend = ax.legend(loc='lower right')\n",
      "        if self.logistic:\n",
      "            ax.set_title(\"Example of Logistic Regression on Categorical Data\")\n",
      "        else:\n",
      "            ax.set_title(\"Example of Linear Regression on Categorical Data\")\n",
      "\n",
      "        ax.text(0.65,0.8,\"[Click to add data points]\", size=10, transform=ax.transAxes)\n",
      "\n",
      "        axcalc   = plt.axes([0.1, 0.05, 0.38, 0.075])  #l,b,w,h\n",
      "        axthresh = plt.axes([0.5, 0.05, 0.38, 0.075])  #l,b,w,h\n",
      "        self.tlist = []\n",
      "\n",
      "        self.fig = fig\n",
      "        self.ax = [ax,axcalc,axthresh]\n",
      "        self.x = x\n",
      "        self.y = y\n",
      "        self.w = copy.deepcopy(w)\n",
      "        self.b = b\n",
      "        f_wb = np.matmul(self.x.reshape(-1,1), self.w) + self.b\n",
      "        if self.logistic:\n",
      "            self.aline = self.ax[0].plot(self.x, sigmoid(f_wb), color=dlblue)\n",
      "            self.bline = self.ax[0].plot(self.x, f_wb, color=dlorange,lw=1)\n",
      "        else:\n",
      "            self.aline = self.ax[0].plot(self.x, sigmoid(f_wb), color=dlblue)\n",
      "\n",
      "        self.cid = fig.canvas.mpl_connect('button_press_event', self.add_data)\n",
      "        if self.logistic:\n",
      "            self.bcalc = Button(axcalc, 'Run Logistic Regression (click)', color=dlblue)\n",
      "            self.bcalc.on_clicked(self.calc_logistic)\n",
      "        else:\n",
      "            self.bcalc = Button(axcalc, 'Run Linear Regression (click)', color=dlblue)\n",
      "            self.bcalc.on_clicked(self.calc_linear)\n",
      "        self.bthresh = CheckButtons(axthresh, ('Toggle 0.5 threshold (after regression)',))\n",
      "        self.bthresh.on_clicked(self.thresh)\n",
      "        self.resize_sq(self.bthresh)\n",
      "\n",
      " #   @output.capture()  # debug\n",
      "    def add_data(self, event):\n",
      "        #self.ax[0].text(0.1,0.1, f\"in onclick\")\n",
      "        if event.inaxes == self.ax[0]:\n",
      "            x_coord = event.xdata\n",
      "            y_coord = event.ydata\n",
      "\n",
      "            if y_coord > 0.5:\n",
      "                self.ax[0].scatter(x_coord, 1, marker='x', s=80, c = 'red' )\n",
      "                self.y = np.append(self.y,1)\n",
      "            else:\n",
      "                self.ax[0].scatter(x_coord, 0, marker='o', s=100, facecolors='none', edgecolors=dlblue,lw=3)\n",
      "                self.y = np.append(self.y,0)\n",
      "            self.x = np.append(self.x,x_coord)\n",
      "        self.fig.canvas.draw()\n",
      "\n",
      "#   @output.capture()  # debug\n",
      "    def calc_linear(self, event):\n",
      "        if self.bthresh.get_status()[0]:\n",
      "            self.remove_thresh()\n",
      "        for it in [1,1,1,1,1,2,4,8,16,32,64,128,256]:\n",
      "            self.w, self.b, _ = gradient_descent(self.x.reshape(-1,1), self.y.reshape(-1,1),\n",
      "                                                 self.w.reshape(-1,1), self.b, 0.01, it,\n",
      "                                                 logistic=False, lambda_=0, verbose=False)\n",
      "            self.aline[0].remove()\n",
      "            self.alegend.remove()\n",
      "            y_hat = np.matmul(self.x.reshape(-1,1), self.w) + self.b\n",
      "            self.aline = self.ax[0].plot(self.x, y_hat, color=dlblue,\n",
      "                                         label=f\"y = {np.squeeze(self.w):0.2f}x+({self.b:0.2f})\")\n",
      "            self.alegend = self.ax[0].legend(loc='lower right')\n",
      "            time.sleep(0.3)\n",
      "            self.fig.canvas.draw()\n",
      "        if self.bthresh.get_status()[0]:\n",
      "            self.draw_thresh()\n",
      "            self.fig.canvas.draw()\n",
      "\n",
      "    def calc_logistic(self, event):\n",
      "        if self.bthresh.get_status()[0]:\n",
      "            self.remove_thresh()\n",
      "        for it in [1, 8,16,32,64,128,256,512,1024,2048,4096]:\n",
      "            self.w, self.b, _ = gradient_descent(self.x.reshape(-1,1), self.y.reshape(-1,1),\n",
      "                                                 self.w.reshape(-1,1), self.b, 0.1, it,\n",
      "                                                 logistic=True, lambda_=0, verbose=False)\n",
      "            self.aline[0].remove()\n",
      "            self.bline[0].remove()\n",
      "            self.alegend.remove()\n",
      "            xlim  = self.ax[0].get_xlim()\n",
      "            x_hat = np.linspace(*xlim, 30)\n",
      "            y_hat = sigmoid(np.matmul(x_hat.reshape(-1,1), self.w) + self.b)\n",
      "            self.aline = self.ax[0].plot(x_hat, y_hat, color=dlblue,\n",
      "                                         label=\"y = sigmoid(z)\")\n",
      "            f_wb = np.matmul(x_hat.reshape(-1,1), self.w) + self.b\n",
      "            self.bline = self.ax[0].plot(x_hat, f_wb, color=dlorange, lw=1,\n",
      "                                         label=f\"z = {np.squeeze(self.w):0.2f}x+({self.b:0.2f})\")\n",
      "            self.alegend = self.ax[0].legend(loc='lower right')\n",
      "            time.sleep(0.3)\n",
      "            self.fig.canvas.draw()\n",
      "        if self.bthresh.get_status()[0]:\n",
      "            self.draw_thresh()\n",
      "            self.fig.canvas.draw()\n",
      "\n",
      "\n",
      "    def thresh(self, event):\n",
      "        if self.bthresh.get_status()[0]:\n",
      "            #plt.figtext(0,0, f\"in thresh {self.bthresh.get_status()}\")\n",
      "            self.draw_thresh()\n",
      "        else:\n",
      "            #plt.figtext(0,0.3, f\"in thresh {self.bthresh.get_status()}\")\n",
      "            self.remove_thresh()\n",
      "\n",
      "    def draw_thresh(self):\n",
      "        ws = np.squeeze(self.w)\n",
      "        xp5 = -self.b/ws if self.logistic else (0.5 - self.b) / ws\n",
      "        ylim = self.ax[0].get_ylim()\n",
      "        xlim = self.ax[0].get_xlim()\n",
      "        a = self.ax[0].fill_between([xlim[0], xp5], [ylim[1], ylim[1]], alpha=0.2, color=dlblue)\n",
      "        b = self.ax[0].fill_between([xp5, xlim[1]], [ylim[1], ylim[1]], alpha=0.2, color=dldarkred)\n",
      "        c = self.ax[0].annotate(\"Malignant\", xy= [xp5,0.5], xycoords='data',\n",
      "             xytext=[30,5],textcoords='offset points')\n",
      "        d = FancyArrowPatch(\n",
      "            posA=(xp5, 0.5), posB=(xp5+1.5, 0.5), color=dldarkred,\n",
      "            arrowstyle='simple, head_width=5, head_length=10, tail_width=0.0',\n",
      "        )\n",
      "        self.ax[0].add_artist(d)\n",
      "\n",
      "        e = self.ax[0].annotate(\"Benign\", xy= [xp5,0.5], xycoords='data',\n",
      "                     xytext=[-70,5],textcoords='offset points', ha='left')\n",
      "        f = FancyArrowPatch(\n",
      "            posA=(xp5, 0.5), posB=(xp5-1.5, 0.5), color=dlblue,\n",
      "            arrowstyle='simple, head_width=5, head_length=10, tail_width=0.0',\n",
      "        )\n",
      "        self.ax[0].add_artist(f)\n",
      "        self.tlist = [a,b,c,d,e,f]\n",
      "\n",
      "        self.fig.canvas.draw()\n",
      "\n",
      "    def remove_thresh(self):\n",
      "        #plt.figtext(0.5,0.0, f\"rem thresh {self.bthresh.get_status()}\")\n",
      "        for artist in self.tlist:\n",
      "            artist.remove()\n",
      "        self.fig.canvas.draw()\n",
      "\n",
      "    def resize_sq(self, bcid):\n",
      "        \"\"\" resizes the check box \"\"\"\n",
      "        #future reference\n",
      "        #print(f\"width  : {bcid.rectangles[0].get_width()}\")\n",
      "        #print(f\"height : {bcid.rectangles[0].get_height()}\")\n",
      "        #print(f\"xy     : {bcid.rectangles[0].get_xy()}\")\n",
      "        #print(f\"bb     : {bcid.rectangles[0].get_bbox()}\")\n",
      "        #print(f\"points : {bcid.rectangles[0].get_bbox().get_points()}\")  #[[xmin,ymin],[xmax,ymax]]\n",
      "\n",
      "        h = bcid.rectangles[0].get_height()\n",
      "        bcid.rectangles[0].set_height(3*h)\n",
      "\n",
      "        ymax = bcid.rectangles[0].get_bbox().y1\n",
      "        ymin = bcid.rectangles[0].get_bbox().y0\n",
      "\n",
      "        bcid.lines[0][0].set_ydata([ymax,ymin])\n",
      "        bcid.lines[0][1].set_ydata([ymin,ymax])\n",
      "\n"
     ]
    }
   ],
   "source": [
    "import inspect as i\n",
    "print(i.getsource(plt_one_addpt_onclick))"
   ]
  },
  {
   "cell_type": "code",
   "execution_count": null,
   "metadata": {},
   "outputs": [],
   "source": []
  }
 ],
 "metadata": {
  "kernelspec": {
   "display_name": "Python 3",
   "language": "python",
   "name": "python3"
  },
  "language_info": {
   "codemirror_mode": {
    "name": "ipython",
    "version": 3
   },
   "file_extension": ".py",
   "mimetype": "text/x-python",
   "name": "python",
   "nbconvert_exporter": "python",
   "pygments_lexer": "ipython3",
   "version": "3.7.6"
  }
 },
 "nbformat": 4,
 "nbformat_minor": 5
}
