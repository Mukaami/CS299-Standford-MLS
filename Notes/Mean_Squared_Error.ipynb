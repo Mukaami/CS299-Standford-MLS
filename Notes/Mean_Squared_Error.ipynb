{
  "nbformat": 4,
  "nbformat_minor": 0,
  "metadata": {
    "colab": {
      "provenance": []
    },
    "kernelspec": {
      "name": "python3",
      "display_name": "Python 3"
    },
    "language_info": {
      "name": "python"
    }
  },
  "cells": [
    {
      "cell_type": "code",
      "execution_count": 8,
      "metadata": {
        "id": "EdNJYV2jMYd3"
      },
      "outputs": [],
      "source": [
        "import numpy as np\n",
        "\n",
        "def mean_squared_error(y_true, y_pred):\n",
        "    \"\"\"\n",
        "    Calculate the Mean Squared Error (MSE) between the true target values and the predicted values.\n",
        "\n",
        "    Parameters:\n",
        "        y_true (array-like): The true target values.\n",
        "        y_pred (array-like): The predicted values.\n",
        "\n",
        "    Returns:\n",
        "        float: The calculated MSE.\n",
        "\n",
        "    Raises:\n",
        "        ValueError: If y_true and y_pred have different lengths.\n",
        "\n",
        "    Examples:\n",
        "        >>> y_true = np.array([2, 4, 6, 8])\n",
        "        >>> y_pred = np.array([1.5, 3.5, 5.5, 7.5])\n",
        "        >>> mse = mean_squared_error(y_true, y_pred)\n",
        "        >>> print(mse)\n",
        "        0.5\n",
        "    \"\"\"\n",
        "    if len(y_true) != len(y_pred):\n",
        "        raise ValueError(\"y_true and y_pred must have the same length.\")\n",
        "\n",
        "    errors = y_true - y_pred\n",
        "    squared_errors = np.square(errors)\n",
        "    mean_squared_error = np.mean(squared_errors)\n",
        "\n",
        "    return mean_squared_error"
      ]
    },
    {
      "cell_type": "code",
      "source": [
        "y_true = np.array([2, 4, 6, 8])\n",
        "y_pred = np.array([1.5, 3.5, 5.5, 7.5])\n",
        "mse = mean_squared_error(y_true, y_pred)\n",
        "print(mse)  # Output: 0.25"
      ],
      "metadata": {
        "colab": {
          "base_uri": "https://localhost:8080/"
        },
        "id": "fVDwfD4WMZap",
        "outputId": "da3db6c9-a36e-4771-e6a4-e934a749bc8e"
      },
      "execution_count": 9,
      "outputs": [
        {
          "output_type": "stream",
          "name": "stdout",
          "text": [
            "0.25\n"
          ]
        }
      ]
    },
    {
      "cell_type": "code",
      "source": [],
      "metadata": {
        "id": "s6t5TOt1Mc1S"
      },
      "execution_count": null,
      "outputs": []
    }
  ]
}